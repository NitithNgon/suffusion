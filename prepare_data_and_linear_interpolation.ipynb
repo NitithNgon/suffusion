{
 "cells": [
  {
   "cell_type": "markdown",
   "id": "b4053c40-7516-413d-a16f-71e3dee87199",
   "metadata": {},
   "source": [
    "# prepare data\n"
   ]
  },
  {
   "cell_type": "code",
   "execution_count": 1,
   "id": "ae6f40e4-df58-4e2a-810f-7c25ab25bf54",
   "metadata": {},
   "outputs": [
    {
     "name": "stdout",
     "output_type": "stream",
     "text": [
      "9369 4\n"
     ]
    }
   ],
   "source": [
    "import cv2\n",
    "import numpy as np\n",
    "import pandas as pd\n",
    "from sklearn.cluster import KMeans\n",
    "import matplotlib.pyplot as plt\n",
    "import os\n",
    "\n",
    "#input\n",
    "test=1\n",
    "repeat=4\n",
    "\n",
    "testNo = \"test\"+str(test)+\".\"+str(repeat)\n",
    "flowtestNo = \"flow\"+str(test)+\".\"+str(repeat)\n",
    "folder=[\"\",\"test1 V0.65 F15\",\"test2 V0.65 F25\",\"test3 V0.65 F35\",\"test4 V0.7 F35\",\"test5 V0.60 F35\"]\n",
    "output_folder = \"./asset/\"+folder[test]+\"/\"+testNo\n",
    "start_time_of_suffution_AllTest=[\"x\",[5,4,2,7],[5,7,3],[10,20,16],[95,7,68],[3,13,12]]\n",
    "\n",
    "\n",
    "finelossdata =  pd.read_csv(output_folder+'/finepixel '+testNo+' Kmeans.csv')\n",
    "flowdata = pd.read_csv(output_folder+'/finepixel '+testNo+' flow.csv')\n",
    "flowdata,finelossdata  = [np.array(flowdata.values), np.array(finelossdata.values)]\n",
    "dictflowdata = dict(zip(flowdata[:,0], flowdata[:,1]))\n",
    "# print(dictflowdata)\n",
    "\n",
    "#add flowdata to finelossdata\n",
    "processingdata = []\n",
    "for i in finelossdata:\n",
    "    if i[0]%1==0 and (i[0] in dictflowdata.keys()):\n",
    "        processingdata.append(list(i)+[dictflowdata[i[0]]])\n",
    "    else :\n",
    "        processingdata.append(list(i)+[\"\"])\n",
    "processingdata=np.array(processingdata)        \n",
    "# df = pd.DataFrame(processingdata, columns=['time (s)', 'finepixelkmeans', 'finepixelmask', 'flowrate (L/min)'])\n",
    "# df.to_csv(output_folder+'/finepixel '+testNo+' sumary.csv', index=False)\n",
    "\n",
    "\n",
    "len0=processingdata.shape[0]\n",
    "len1=processingdata.shape[1]\n",
    "print(len0,len1)\n",
    "for i in range(len0):\n",
    "    if (processingdata[i][len1-1])==\"\":\n",
    "        if (processingdata[i-1][len1-1])!=\"\" :\n",
    "            y1=float(processingdata[i-1][len1-1])\n",
    "            x1=float(processingdata[i-1][0])\n",
    "            istart=i\n",
    "            \n",
    "        if i+1 < len0-1:    #void error\n",
    "            if (processingdata[i+1][len1-1])!=\"\" :\n",
    "                y2=float(processingdata[i+1][len1-1])\n",
    "                x2=float(processingdata[i+1][0])\n",
    "                m=(y2-y1)/(x2-x1)\n",
    "                c=y2-(x2*m)\n",
    "                istop=i+1\n",
    "                # print(istart,istop)\n",
    "                # print(x1,x2,y1,y2)\n",
    "                \n",
    "                #linear interpolation\n",
    "                processingdata[istart:istop+1, len1-1]=((processingdata[istart:istop+1, 0]).astype('float64') )*m+c\n",
    "        if i == len0-1:\n",
    "            y2=y1\n",
    "            x2=float(processingdata[i][0])\n",
    "            m=0\n",
    "            c=y2-(x2*m)\n",
    "            istop=i+1\n",
    "            processingdata[istart:istop+1, len1-1]=((processingdata[istart:istop+1, 0]).astype('float64') )*m+c\n",
    "\n",
    "\n",
    "# df = pd.DataFrame(processingdata, columns=['time (s)', 'finepixelkmeans', 'finepixelmask', 'flowrate (L/min)'])\n",
    "# df.to_csv(output_folder+'/finepixel '+testNo+' sumary_linear_interpolation.csv', index=False)\n",
    "\n",
    "\n",
    "#input boundary condition\n",
    "sectionarea_MMxMM= 100 * 1.5\n",
    "sectionarea_MxM=(sectionarea_MMxMM * 10**-6)\n",
    "dH_CM=10\n",
    "dL_CM=30\n",
    "hydraulic_gradient=(dH_CM/dL_CM)\n",
    "\n",
    "#cal hydraulic conductivity\n",
    "processingdata[:, len1-1]=( (processingdata[:, len1-1]).astype('float64')/(1000*60) ) / (sectionarea_MxM*hydraulic_gradient)\n",
    "\n",
    "\n",
    "processingdata=processingdata.astype('float64')\n",
    "#moving avg 3point\n",
    "for j in range(5):\n",
    "    processingdata2=np.array(processingdata)\n",
    "    for i in range(len0):\n",
    "        if i>=3-1:\n",
    "            processingdata2[i ,1:3]=sum(processingdata[(i+1-3):(i+1) ,1:3])/3\n",
    "    processingdata=np.array(processingdata2)\n",
    "# use A=np.array(B) instead of A=B\n",
    "# avoid bug A=B link B to A (B change A will change like excel formular), A=np.array(B) will copy values of B to A\n",
    "\n",
    "#cal erosion rate\n",
    "#add new column (erosion rate)\n",
    "starttime=start_time_of_suffution_AllTest[test][repeat-1]\n",
    "processingdata=np.append(processingdata, np.zeros((len0,2)), axis=1)\n",
    "for i in range(len0):\n",
    "        if i>=starttime :\n",
    "            y=processingdata[(i-1):(i+1) ,1:3]\n",
    "            x=processingdata[(i-1):(i+1) ,0:1]\n",
    "            processingdata[i ,4:6]=((y[1:2,:]-y[0:1,:])/(x[1:2,:]-x[0:1,:]))\n",
    "\n",
    "# cut initial part\n",
    "cuttime=starttime\n",
    "processingdata[:,0]=processingdata[:,0]-cuttime\n",
    "df = pd.DataFrame(processingdata[cuttime-1:,:], columns=['time (s)', 'finelossML', 'finelossThreshold', 'K (m/s)', 'erosionRateML','erosionRateThreshold'])\n",
    "df.to_csv(output_folder+'/finepixel '+testNo+' final.csv', index=False)\n"
   ]
  },
  {
   "cell_type": "markdown",
   "id": "1e253cfa-96b8-4839-bbb1-07492bca6f40",
   "metadata": {},
   "source": [
    "# linear interpolation for flow (run this when error nan)"
   ]
  },
  {
   "cell_type": "code",
   "execution_count": null,
   "id": "7e1155e5-ee62-4d93-b39f-4ddaa361abda",
   "metadata": {},
   "outputs": [],
   "source": [
    "import cv2\n",
    "import numpy as np\n",
    "import pandas as pd\n",
    "from sklearn.cluster import KMeans\n",
    "import matplotlib.pyplot as plt\n",
    "import os\n",
    "\n",
    "#input\n",
    "test=3\n",
    "repeat=6\n",
    "\n",
    "testNo = \"test\"+str(test)+\".\"+str(repeat)\n",
    "folder=[\"\",\"test1 V0.65 F15\",\"test2 V0.65 F25\",\"test3 V0.65 F35\",\"test4 V0.7 F35\",\"test5 V0.60 F35\"]\n",
    "output_folder = \"./asset/\"+folder[test]+\"/\"+testNo\n",
    "\n",
    "\n",
    "flowdata = pd.read_csv(output_folder+'/finepixel '+testNo+' flow.csv')\n",
    "processingdata=np.array(flowdata)\n",
    "processingdata = np.where(np.isnan(processingdata),\"\", processingdata)\n",
    "len0=processingdata.shape[0]\n",
    "len1=processingdata.shape[1]\n",
    "print(len0,len1)\n",
    "# print(processingdata)\n",
    "for i in range(len0):\n",
    "    if (processingdata[i][len1-1])==\"\":\n",
    "        if (processingdata[i-1][len1-1])!=\"\" :\n",
    "            y1=float(processingdata[i-1][len1-1])\n",
    "            x1=float(processingdata[i-1][0])\n",
    "            istart=i\n",
    "            \n",
    "        if i+1 < len0-1:    #void error\n",
    "            if (processingdata[i+1][len1-1])!=\"\" :\n",
    "                y2=float(processingdata[i+1][len1-1])\n",
    "                x2=float(processingdata[i+1][0])\n",
    "                m=(y2-y1)/(x2-x1)\n",
    "                c=y2-(x2*m)\n",
    "                istop=i+1\n",
    "                # print(istart,istop)\n",
    "                # print(x1,x2,y1,y2)\n",
    "                \n",
    "                #linear interpolation\n",
    "                processingdata[istart:istop+1, len1-1]=((processingdata[istart:istop+1, 0]).astype('float64') )*m+c\n",
    "        if i == len0-1:\n",
    "            y2=y1\n",
    "            x2=float(processingdata[i][0])\n",
    "            m=0\n",
    "            c=y2-(x2*m)\n",
    "            istop=i+1\n",
    "            processingdata[istart:istop+1, len1-1]=((processingdata[istart:istop+1, 0]).astype('float64') )*m+c\n",
    "\n",
    "df = pd.DataFrame(processingdata, columns=['time (s)', 'flowrate (L/min)'])\n",
    "df.to_csv(output_folder+'/finepixel '+testNo+' flow.csv', index=False)\n"
   ]
  },
  {
   "cell_type": "code",
   "execution_count": null,
   "id": "d5b62a82-18c5-4177-8756-c4a26d81d5f0",
   "metadata": {},
   "outputs": [],
   "source": [
    "[\"a\"][\"\"]*8+[\"a\"]"
   ]
  },
  {
   "cell_type": "code",
   "execution_count": null,
   "id": "dd1fd4ba-ecc7-430c-9fa6-2a7dcfb060d7",
   "metadata": {},
   "outputs": [],
   "source": [
    "d={1: \"Tom\", \"age\": 10}\n",
    "x=1\n",
    "d.keys()"
   ]
  },
  {
   "cell_type": "code",
   "execution_count": null,
   "id": "d5da9933-63aa-4c9e-81d3-1aaa4235248b",
   "metadata": {},
   "outputs": [],
   "source": [
    "68.0%1"
   ]
  },
  {
   "cell_type": "code",
   "execution_count": null,
   "id": "f1c4aec3-4d0a-4913-a017-a24df82b3929",
   "metadata": {},
   "outputs": [],
   "source": [
    "(processingdata[13:73, 0])"
   ]
  },
  {
   "cell_type": "code",
   "execution_count": null,
   "id": "242d1d33-5c91-4a42-90dd-034af07ba644",
   "metadata": {},
   "outputs": [],
   "source": [
    "import numpy as np\n",
    "NP=np.array([[1,3,6],\n",
    "             [1.5,4,9]])\n",
    "lenNP0=NP.shape[0]\n",
    "lenNP1=NP.shape[1]\n",
    "print(lenNP0)\n",
    "print(NP[:,1:3])\n",
    "print(sum(NP[:,0:1]))\n",
    "y=NP[:,1:3]\n",
    "x=NP[:,0:1]\n",
    "print((y[1:2,:]-y[0:1,:]))\n",
    "print((x[1:2,:]-x[0:1,:]))\n",
    "print((y[1:2,:]-y[0:1,:])/(x[1:2,:]-x[0:1,:]))\n",
    "a=np.zeros((2,2))\n",
    "# a=NP[:,0:2]\n",
    "print(a)\n",
    "NP=(np.append(NP,a, axis=1))\n",
    "print(NP)\n",
    "NP2=np.zeros((2,5))\n",
    "NP2[0,:]=sum(NP[:,:])/2\n",
    "NP2[1,:]=sum(NP[:,:])/3\n",
    "print(NP2)\n",
    "print(NP)\n",
    "NP=np.array(NP2)\n",
    "NP2[0,:]=sum(NP[:,:])/2\n",
    "NP2[1,:]=sum(NP[:,:])/3\n",
    "print(NP2)\n",
    "print(NP)\n"
   ]
  },
  {
   "cell_type": "code",
   "execution_count": null,
   "id": "9939123c-b35e-49ce-889f-1a50032cf5fd",
   "metadata": {},
   "outputs": [],
   "source": [
    "10**-3*10**-3"
   ]
  },
  {
   "cell_type": "code",
   "execution_count": null,
   "id": "9da51a4b-d53c-4dc0-930a-0d3df83adf66",
   "metadata": {},
   "outputs": [],
   "source": [
    "processingdata[20][1]"
   ]
  },
  {
   "cell_type": "code",
   "execution_count": null,
   "id": "a22ef15f-887f-4fdb-84af-4264d54e50d5",
   "metadata": {},
   "outputs": [],
   "source": [
    "if \"1\"%0==0 :\n",
    "    print(\"h\")"
   ]
  },
  {
   "cell_type": "code",
   "execution_count": null,
   "id": "a75d4e63-8c40-4996-8846-dfc99f672421",
   "metadata": {},
   "outputs": [],
   "source": []
  }
 ],
 "metadata": {
  "kernelspec": {
   "display_name": "Python 3 (ipykernel)",
   "language": "python",
   "name": "python3"
  },
  "language_info": {
   "codemirror_mode": {
    "name": "ipython",
    "version": 3
   },
   "file_extension": ".py",
   "mimetype": "text/x-python",
   "name": "python",
   "nbconvert_exporter": "python",
   "pygments_lexer": "ipython3",
   "version": "3.12.2"
  }
 },
 "nbformat": 4,
 "nbformat_minor": 5
}
